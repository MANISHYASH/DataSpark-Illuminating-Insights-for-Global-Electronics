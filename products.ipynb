{
 "cells": [
  {
   "cell_type": "code",
   "execution_count": 6,
   "metadata": {},
   "outputs": [
    {
     "name": "stdout",
     "output_type": "stream",
     "text": [
      "   ProductKey                         Product Name    Brand   Color  \\\n",
      "0           1  Contoso 512MB MP3 Player E51 Silver  Contoso  Silver   \n",
      "1           2    Contoso 512MB MP3 Player E51 Blue  Contoso    Blue   \n",
      "2           3     Contoso 1G MP3 Player E100 White  Contoso   White   \n",
      "3           4    Contoso 2G MP3 Player E200 Silver  Contoso  Silver   \n",
      "4           5       Contoso 2G MP3 Player E200 Red  Contoso     Red   \n",
      "\n",
      "  Unit Cost USD Unit Price USD  SubcategoryKey Subcategory  CategoryKey  \\\n",
      "0        $6.62         $12.99              101     MP4&MP3            1   \n",
      "1        $6.62         $12.99              101     MP4&MP3            1   \n",
      "2        $7.40         $14.52              101     MP4&MP3            1   \n",
      "3       $11.00         $21.57              101     MP4&MP3            1   \n",
      "4       $11.00         $21.57              101     MP4&MP3            1   \n",
      "\n",
      "  Category  \n",
      "0    Audio  \n",
      "1    Audio  \n",
      "2    Audio  \n",
      "3    Audio  \n",
      "4    Audio  \n"
     ]
    }
   ],
   "source": [
    "import pandas as pd\n",
    "\n",
    "# Load the Products dataset\n",
    "products_df = pd.read_csv('Products.csv', encoding='ISO-8859-1')\n",
    "\n",
    "# Display the first few rows of the dataset to inspect\n",
    "print(products_df.head())\n"
   ]
  },
  {
   "cell_type": "code",
   "execution_count": 7,
   "metadata": {},
   "outputs": [
    {
     "name": "stdout",
     "output_type": "stream",
     "text": [
      "Missing values in each column:\n",
      "ProductKey        0\n",
      "Product Name      0\n",
      "Brand             0\n",
      "Color             0\n",
      "Unit Cost USD     0\n",
      "Unit Price USD    0\n",
      "SubcategoryKey    0\n",
      "Subcategory       0\n",
      "CategoryKey       0\n",
      "Category          0\n",
      "dtype: int64\n"
     ]
    }
   ],
   "source": [
    "# Check for missing values in each column\n",
    "missing_values = products_df.isnull().sum()\n",
    "print(\"Missing values in each column:\")\n",
    "print(missing_values)\n"
   ]
  },
  {
   "cell_type": "code",
   "execution_count": 8,
   "metadata": {},
   "outputs": [
    {
     "name": "stdout",
     "output_type": "stream",
     "text": [
      "ProductKey          int32\n",
      "Product Name       object\n",
      "Brand              object\n",
      "Color              object\n",
      "Unit Cost USD     float64\n",
      "Unit Price USD    float64\n",
      "SubcategoryKey      int32\n",
      "Subcategory        object\n",
      "CategoryKey         int32\n",
      "Category           object\n",
      "dtype: object\n"
     ]
    },
    {
     "name": "stderr",
     "output_type": "stream",
     "text": [
      "<>:2: SyntaxWarning: invalid escape sequence '\\$'\n",
      "<>:3: SyntaxWarning: invalid escape sequence '\\$'\n",
      "<>:2: SyntaxWarning: invalid escape sequence '\\$'\n",
      "<>:3: SyntaxWarning: invalid escape sequence '\\$'\n",
      "C:\\Users\\yashw\\AppData\\Local\\Temp\\ipykernel_10444\\1486024672.py:2: SyntaxWarning: invalid escape sequence '\\$'\n",
      "  products_df['Unit Cost USD'] = products_df['Unit Cost USD'].replace('[\\$,]', '', regex=True).astype(float)\n",
      "C:\\Users\\yashw\\AppData\\Local\\Temp\\ipykernel_10444\\1486024672.py:3: SyntaxWarning: invalid escape sequence '\\$'\n",
      "  products_df['Unit Price USD'] = products_df['Unit Price USD'].replace('[\\$,]', '', regex=True).astype(float)\n"
     ]
    }
   ],
   "source": [
    "# Convert Unit Cost USD and Unit Price USD to numeric values by removing the dollar sign\n",
    "products_df['Unit Cost USD'] = products_df['Unit Cost USD'].replace('[\\$,]', '', regex=True).astype(float)\n",
    "products_df['Unit Price USD'] = products_df['Unit Price USD'].replace('[\\$,]', '', regex=True).astype(float)\n",
    "\n",
    "# Ensure that ProductKey, SubcategoryKey, and CategoryKey are integers\n",
    "products_df['ProductKey'] = products_df['ProductKey'].astype(int)\n",
    "products_df['SubcategoryKey'] = products_df['SubcategoryKey'].astype(int)\n",
    "products_df['CategoryKey'] = products_df['CategoryKey'].astype(int)\n",
    "\n",
    "# Check the data types to confirm\n",
    "print(products_df.dtypes)\n"
   ]
  },
  {
   "cell_type": "code",
   "execution_count": 9,
   "metadata": {},
   "outputs": [
    {
     "name": "stdout",
     "output_type": "stream",
     "text": [
      "ProductKey          int32\n",
      "Product Name       object\n",
      "Brand              object\n",
      "Color              object\n",
      "Unit Cost USD     float64\n",
      "Unit Price USD    float64\n",
      "SubcategoryKey      int32\n",
      "Subcategory        object\n",
      "CategoryKey         int32\n",
      "Category           object\n",
      "dtype: object\n"
     ]
    }
   ],
   "source": [
    "# Convert Unit Cost USD and Unit Price USD to numeric values by removing the dollar sign\n",
    "products_df['Unit Cost USD'] = products_df['Unit Cost USD'].replace(r'[\\$,]', '', regex=True).astype(float)\n",
    "products_df['Unit Price USD'] = products_df['Unit Price USD'].replace(r'[\\$,]', '', regex=True).astype(float)\n",
    "\n",
    "# Ensure that ProductKey, SubcategoryKey, and CategoryKey are integers\n",
    "products_df['ProductKey'] = products_df['ProductKey'].astype(int)\n",
    "products_df['SubcategoryKey'] = products_df['SubcategoryKey'].astype(int)\n",
    "products_df['CategoryKey'] = products_df['CategoryKey'].astype(int)\n",
    "\n",
    "# Check the data types to confirm\n",
    "print(products_df.dtypes)\n"
   ]
  },
  {
   "cell_type": "code",
   "execution_count": 10,
   "metadata": {},
   "outputs": [
    {
     "name": "stdout",
     "output_type": "stream",
     "text": [
      "Number of duplicate ProductKeys: 0\n",
      "Missing values in ProductKey: ProductKey    0\n",
      "dtype: int64\n",
      "Unique ProductKeys: 2517\n",
      "Total number of products: 2517\n",
      "Number of duplicate ProductKey entries: 0\n",
      "Missing values in ProductKey: ProductKey    0\n",
      "dtype: int64\n"
     ]
    }
   ],
   "source": [
    "# Step 4: Check for Duplicates and Inconsistencies\n",
    "# Check for duplicates in the ProductKey column\n",
    "duplicates = products_df.duplicated(subset=['ProductKey'])\n",
    "print(f\"Number of duplicate ProductKeys: {duplicates.sum()}\")\n",
    "\n",
    "# Check for missing values in key columns\n",
    "missing_keys = products_df[['ProductKey']].isnull().sum()\n",
    "print(f\"Missing values in ProductKey: {missing_keys}\")\n",
    "\n",
    "# Display unique values for key columns to ensure consistency\n",
    "unique_products = products_df['ProductKey'].nunique()\n",
    "total_products = len(products_df)\n",
    "print(f\"Unique ProductKeys: {unique_products}\")\n",
    "print(f\"Total number of products: {total_products}\")\n",
    "\n",
    "# Step 5: Prepare for Merging\n",
    "# Check for duplicate entries based on ProductKey\n",
    "duplicates = products_df.duplicated(subset=['ProductKey'])\n",
    "print(f\"Number of duplicate ProductKey entries: {duplicates.sum()}\")\n",
    "\n",
    "# Check for missing values in key columns\n",
    "missing_keys = products_df[['ProductKey']].isnull().sum()\n",
    "print(f\"Missing values in ProductKey: {missing_keys}\")\n"
   ]
  },
  {
   "cell_type": "code",
   "execution_count": 11,
   "metadata": {},
   "outputs": [],
   "source": [
    "products_df.to_csv('cleaned_Products.csv', index=False)"
   ]
  }
 ],
 "metadata": {
  "kernelspec": {
   "display_name": "Python 3",
   "language": "python",
   "name": "python3"
  },
  "language_info": {
   "codemirror_mode": {
    "name": "ipython",
    "version": 3
   },
   "file_extension": ".py",
   "mimetype": "text/x-python",
   "name": "python",
   "nbconvert_exporter": "python",
   "pygments_lexer": "ipython3",
   "version": "3.12.4"
  }
 },
 "nbformat": 4,
 "nbformat_minor": 2
}
