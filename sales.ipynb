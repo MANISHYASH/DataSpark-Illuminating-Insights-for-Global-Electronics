{
 "cells": [
  {
   "cell_type": "code",
   "execution_count": 8,
   "metadata": {},
   "outputs": [
    {
     "name": "stdout",
     "output_type": "stream",
     "text": [
      "   Order Number  Line Item Order Date Delivery Date  CustomerKey  StoreKey  \\\n",
      "0        366000          1   1/1/2016           NaN       265598        10   \n",
      "1        366001          1   1/1/2016     1/13/2016      1269051         0   \n",
      "2        366001          2   1/1/2016     1/13/2016      1269051         0   \n",
      "3        366002          1   1/1/2016     1/12/2016       266019         0   \n",
      "4        366002          2   1/1/2016     1/12/2016       266019         0   \n",
      "\n",
      "   ProductKey  Quantity Currency Code  \n",
      "0        1304         1           CAD  \n",
      "1        1048         2           USD  \n",
      "2        2007         1           USD  \n",
      "3        1106         7           CAD  \n",
      "4         373         1           CAD  \n"
     ]
    }
   ],
   "source": [
    "import pandas as pd\n",
    "\n",
    "# Load the Sales dataset\n",
    "sales_df = pd.read_csv('Sales.csv', encoding='ISO-8859-1')\n",
    "\n",
    "# Display the first few rows of the dataset to inspect\n",
    "print(sales_df.head())\n"
   ]
  },
  {
   "cell_type": "code",
   "execution_count": 9,
   "metadata": {},
   "outputs": [
    {
     "name": "stdout",
     "output_type": "stream",
     "text": [
      "Missing values in each column:\n",
      "Order Number         0\n",
      "Line Item            0\n",
      "Order Date           0\n",
      "Delivery Date    49719\n",
      "CustomerKey          0\n",
      "StoreKey             0\n",
      "ProductKey           0\n",
      "Quantity             0\n",
      "Currency Code        0\n",
      "dtype: int64\n"
     ]
    }
   ],
   "source": [
    "# Check for missing values in the Sales dataset\n",
    "missing_values = sales_df.isnull().sum()\n",
    "print(\"Missing values in each column:\")\n",
    "print(missing_values)\n"
   ]
  },
  {
   "cell_type": "code",
   "execution_count": 10,
   "metadata": {},
   "outputs": [
    {
     "name": "stdout",
     "output_type": "stream",
     "text": [
      "Number of rows before dropping missing values: 62884\n",
      "Number of rows after dropping missing values: 13165\n"
     ]
    }
   ],
   "source": [
    "# Drop rows with missing Delivery Date\n",
    "sales_cleaned_df = sales_df.dropna(subset=['Delivery Date'])\n",
    "\n",
    "# Verify the number of rows after dropping\n",
    "print(f\"Number of rows before dropping missing values: {len(sales_df)}\")\n",
    "print(f\"Number of rows after dropping missing values: {len(sales_cleaned_df)}\")\n"
   ]
  },
  {
   "cell_type": "code",
   "execution_count": 11,
   "metadata": {},
   "outputs": [
    {
     "name": "stdout",
     "output_type": "stream",
     "text": [
      "Number of duplicate entries: 0\n",
      "Missing values in key columns:\n",
      "Order Number    0\n",
      "CustomerKey     0\n",
      "StoreKey        0\n",
      "ProductKey      0\n",
      "dtype: int64\n",
      "Unique Order Numbers: 26326\n",
      "Total number of orders: 62884\n"
     ]
    }
   ],
   "source": [
    "# Check for duplicates in the key columns\n",
    "duplicates = sales_df.duplicated(subset=['Order Number', 'Line Item'])\n",
    "print(f\"Number of duplicate entries: {duplicates.sum()}\")\n",
    "\n",
    "# Check for any missing values in key columns\n",
    "missing_keys = sales_df[['Order Number', 'CustomerKey', 'StoreKey', 'ProductKey']].isnull().sum()\n",
    "print(f\"Missing values in key columns:\\n{missing_keys}\")\n",
    "\n",
    "# Display unique values for key columns to ensure consistency\n",
    "unique_orders = sales_df['Order Number'].nunique()\n",
    "total_orders = len(sales_df)\n",
    "print(f\"Unique Order Numbers: {unique_orders}\")\n",
    "print(f\"Total number of orders: {total_orders}\")\n"
   ]
  },
  {
   "cell_type": "code",
   "execution_count": 12,
   "metadata": {},
   "outputs": [
    {
     "name": "stdout",
     "output_type": "stream",
     "text": [
      "Order Number              int64\n",
      "Line Item                 int64\n",
      "Order Date       datetime64[ns]\n",
      "Delivery Date    datetime64[ns]\n",
      "CustomerKey               int64\n",
      "StoreKey                  int64\n",
      "ProductKey                int64\n",
      "Quantity                  int64\n",
      "Currency Code            object\n",
      "dtype: object\n"
     ]
    }
   ],
   "source": [
    "# Convert 'Order Date' and 'Delivery Date' to datetime\n",
    "sales_df['Order Date'] = pd.to_datetime(sales_df['Order Date'], errors='coerce')\n",
    "sales_df['Delivery Date'] = pd.to_datetime(sales_df['Delivery Date'], errors='coerce')\n",
    "\n",
    "# Convert 'Quantity' to numeric, handling any non-numeric values\n",
    "sales_df['Quantity'] = pd.to_numeric(sales_df['Quantity'], errors='coerce')\n",
    "\n",
    "# Display the data types of the columns to confirm\n",
    "print(sales_df.dtypes)\n"
   ]
  },
  {
   "cell_type": "code",
   "execution_count": 13,
   "metadata": {},
   "outputs": [
    {
     "name": "stdout",
     "output_type": "stream",
     "text": [
      "Number of duplicate Order Number and Line Item combinations: 0\n",
      "Missing values in key columns:\n",
      "Order Number    0\n",
      "CustomerKey     0\n",
      "StoreKey        0\n",
      "ProductKey      0\n",
      "dtype: int64\n",
      "Unique Order Numbers: 26326\n",
      "Total number of orders: 62884\n"
     ]
    }
   ],
   "source": [
    "# Check for duplicates in key columns\n",
    "duplicates = sales_df.duplicated(subset=['Order Number', 'Line Item'])\n",
    "print(f\"Number of duplicate Order Number and Line Item combinations: {duplicates.sum()}\")\n",
    "\n",
    "# Check for any missing values in key columns\n",
    "missing_keys = sales_df[['Order Number', 'CustomerKey', 'StoreKey', 'ProductKey']].isnull().sum()\n",
    "print(f\"Missing values in key columns:\\n{missing_keys}\")\n",
    "\n",
    "# Display unique values for key columns to ensure consistency\n",
    "unique_orders = sales_df['Order Number'].nunique()\n",
    "total_orders = len(sales_df)\n",
    "print(f\"Unique Order Numbers: {unique_orders}\")\n",
    "print(f\"Total number of orders: {total_orders}\")\n"
   ]
  },
  {
   "cell_type": "code",
   "execution_count": 14,
   "metadata": {},
   "outputs": [],
   "source": [
    "# Save the cleaned Sales dataset\n",
    "sales_cleaned_df.to_csv('cleaned_Sales.csv', index=False)"
   ]
  }
 ],
 "metadata": {
  "kernelspec": {
   "display_name": "Python 3",
   "language": "python",
   "name": "python3"
  },
  "language_info": {
   "codemirror_mode": {
    "name": "ipython",
    "version": 3
   },
   "file_extension": ".py",
   "mimetype": "text/x-python",
   "name": "python",
   "nbconvert_exporter": "python",
   "pygments_lexer": "ipython3",
   "version": "3.12.4"
  }
 },
 "nbformat": 4,
 "nbformat_minor": 2
}
