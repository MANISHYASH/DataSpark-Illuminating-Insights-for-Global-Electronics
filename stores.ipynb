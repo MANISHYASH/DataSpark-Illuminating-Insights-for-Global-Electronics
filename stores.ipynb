{
 "cells": [
  {
   "cell_type": "code",
   "execution_count": 8,
   "metadata": {},
   "outputs": [
    {
     "name": "stdout",
     "output_type": "stream",
     "text": [
      "   StoreKey    Country                         State  Square Meters  Open Date\n",
      "0         1  Australia  Australian Capital Territory          595.0   1/1/2008\n",
      "1         2  Australia            Northern Territory          665.0  1/12/2008\n",
      "2         3  Australia               South Australia         2000.0   1/7/2012\n",
      "3         4  Australia                      Tasmania         2000.0   1/1/2010\n",
      "4         5  Australia                      Victoria         2000.0  12/9/2015\n"
     ]
    }
   ],
   "source": [
    "import pandas as pd\n",
    "\n",
    "# Load the Stores dataset\n",
    "stores_df = pd.read_csv('Stores.csv', encoding='ISO-8859-1')\n",
    "\n",
    "# Display the first few rows of the dataset to inspect\n",
    "print(stores_df.head())\n"
   ]
  },
  {
   "cell_type": "code",
   "execution_count": 9,
   "metadata": {},
   "outputs": [
    {
     "name": "stdout",
     "output_type": "stream",
     "text": [
      "Missing values in each column:\n",
      "StoreKey         0\n",
      "Country          0\n",
      "State            0\n",
      "Square Meters    1\n",
      "Open Date        0\n",
      "dtype: int64\n"
     ]
    }
   ],
   "source": [
    "# Check for missing values in the dataset\n",
    "missing_values = stores_df.isnull().sum()\n",
    "print(\"Missing values in each column:\")\n",
    "print(missing_values)"
   ]
  },
  {
   "cell_type": "code",
   "execution_count": 10,
   "metadata": {},
   "outputs": [
    {
     "name": "stdout",
     "output_type": "stream",
     "text": [
      "StoreKey         0\n",
      "Country          0\n",
      "State            0\n",
      "Square Meters    0\n",
      "Open Date        0\n",
      "dtype: int64\n"
     ]
    }
   ],
   "source": [
    "import pandas as pd\n",
    "\n",
    "# Load the Stores dataset with the correct encoding\n",
    "stores_df = pd.read_csv('Stores.csv', encoding='ISO-8859-1')\n",
    "\n",
    "# Calculate the median of the 'Square Meters' column\n",
    "median_square_meters = stores_df['Square Meters'].median()\n",
    "\n",
    "# Impute missing values with the median\n",
    "stores_df['Square Meters'] = stores_df['Square Meters'].fillna(median_square_meters)\n",
    "\n",
    "# Verify that there are no missing values in 'Square Meters'\n",
    "print(stores_df.isnull().sum())\n"
   ]
  },
  {
   "cell_type": "code",
   "execution_count": 11,
   "metadata": {},
   "outputs": [
    {
     "name": "stdout",
     "output_type": "stream",
     "text": [
      "Number of duplicate StoreKeys: 0\n",
      "Missing values in StoreKey: StoreKey    0\n",
      "dtype: int64\n",
      "Unique StoreKeys: 67\n",
      "Total number of stores: 67\n"
     ]
    }
   ],
   "source": [
    "# Check for duplicates in the key columns\n",
    "duplicates = stores_df.duplicated(subset=['StoreKey'])\n",
    "print(f\"Number of duplicate StoreKeys: {duplicates.sum()}\")\n",
    "\n",
    "# Check for any missing values in key columns (though we've handled it before)\n",
    "missing_keys = stores_df[['StoreKey']].isnull().sum()\n",
    "print(f\"Missing values in StoreKey: {missing_keys}\")\n",
    "\n",
    "# Display unique values for key columns to ensure consistency\n",
    "unique_stores = stores_df['StoreKey'].nunique()\n",
    "total_stores = len(stores_df)\n",
    "print(f\"Unique StoreKeys: {unique_stores}\")\n",
    "print(f\"Total number of stores: {total_stores}\")\n"
   ]
  },
  {
   "cell_type": "code",
   "execution_count": 12,
   "metadata": {},
   "outputs": [
    {
     "name": "stdout",
     "output_type": "stream",
     "text": [
      "StoreKey                  int64\n",
      "Country                  object\n",
      "State                    object\n",
      "Square Meters           float64\n",
      "Open Date        datetime64[ns]\n",
      "dtype: object\n"
     ]
    }
   ],
   "source": [
    "# Convert 'Open Date' to datetime\n",
    "stores_df['Open Date'] = pd.to_datetime(stores_df['Open Date'], format='%m/%d/%Y')\n",
    "\n",
    "# Check the data types to confirm\n",
    "print(stores_df.dtypes)\n"
   ]
  },
  {
   "cell_type": "code",
   "execution_count": 13,
   "metadata": {},
   "outputs": [
    {
     "name": "stdout",
     "output_type": "stream",
     "text": [
      "Number of duplicate StoreKeys: 0\n",
      "Missing values in StoreKey: StoreKey    0\n",
      "dtype: int64\n",
      "Unique StoreKeys: 67\n",
      "Total number of stores: 67\n"
     ]
    }
   ],
   "source": [
    "# Check for duplicates in StoreKey\n",
    "duplicates = stores_df.duplicated(subset=['StoreKey'])\n",
    "print(f\"Number of duplicate StoreKeys: {duplicates.sum()}\")\n",
    "\n",
    "# Check for any missing values in key columns\n",
    "missing_keys = stores_df[['StoreKey']].isnull().sum()\n",
    "print(f\"Missing values in StoreKey: {missing_keys}\")\n",
    "\n",
    "# Display unique values for key columns to ensure consistency\n",
    "unique_stores = stores_df['StoreKey'].nunique()\n",
    "total_stores = len(stores_df)\n",
    "print(f\"Unique StoreKeys: {unique_stores}\")\n",
    "print(f\"Total number of stores: {total_stores}\")\n"
   ]
  },
  {
   "cell_type": "code",
   "execution_count": 14,
   "metadata": {},
   "outputs": [],
   "source": [
    "stores_df.to_csv('cleaned_Stores.csv', index=False)"
   ]
  }
 ],
 "metadata": {
  "kernelspec": {
   "display_name": "Python 3",
   "language": "python",
   "name": "python3"
  },
  "language_info": {
   "codemirror_mode": {
    "name": "ipython",
    "version": 3
   },
   "file_extension": ".py",
   "mimetype": "text/x-python",
   "name": "python",
   "nbconvert_exporter": "python",
   "pygments_lexer": "ipython3",
   "version": "3.12.4"
  }
 },
 "nbformat": 4,
 "nbformat_minor": 2
}
