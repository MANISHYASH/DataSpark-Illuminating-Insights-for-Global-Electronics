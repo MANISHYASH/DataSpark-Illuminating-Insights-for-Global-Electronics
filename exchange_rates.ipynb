{
 "cells": [
  {
   "cell_type": "code",
   "execution_count": 6,
   "metadata": {},
   "outputs": [
    {
     "name": "stdout",
     "output_type": "stream",
     "text": [
      "       Date Currency  Exchange\n",
      "0  1/1/2015      USD    1.0000\n",
      "1  1/1/2015      CAD    1.1583\n",
      "2  1/1/2015      AUD    1.2214\n",
      "3  1/1/2015      EUR    0.8237\n",
      "4  1/1/2015      GBP    0.6415\n"
     ]
    }
   ],
   "source": [
    "import pandas as pd\n",
    "\n",
    "# Load the Exchange Rates dataset\n",
    "exchange_rates_df = pd.read_csv('exchange_rates.csv', encoding='ISO-8859-1')\n",
    "\n",
    "# Display the first few rows of the dataset to inspect\n",
    "print(exchange_rates_df.head())\n"
   ]
  },
  {
   "cell_type": "code",
   "execution_count": 7,
   "metadata": {},
   "outputs": [
    {
     "name": "stdout",
     "output_type": "stream",
     "text": [
      "Date        0\n",
      "Currency    0\n",
      "Exchange    0\n",
      "dtype: int64\n"
     ]
    }
   ],
   "source": [
    "# Check for missing values\n",
    "print(exchange_rates_df.isnull().sum())\n"
   ]
  },
  {
   "cell_type": "code",
   "execution_count": 8,
   "metadata": {},
   "outputs": [
    {
     "name": "stdout",
     "output_type": "stream",
     "text": [
      "Date        datetime64[ns]\n",
      "Currency            object\n",
      "Exchange           float64\n",
      "dtype: object\n"
     ]
    }
   ],
   "source": [
    "# Convert 'Date' to datetime format\n",
    "exchange_rates_df['Date'] = pd.to_datetime(exchange_rates_df['Date'], format='%m/%d/%Y')\n",
    "\n",
    "# Convert 'Exchange' to numeric, forcing errors to NaN (though it should be clean)\n",
    "exchange_rates_df['Exchange'] = pd.to_numeric(exchange_rates_df['Exchange'], errors='coerce')\n",
    "\n",
    "# Check the data types\n",
    "print(exchange_rates_df.dtypes)\n"
   ]
  },
  {
   "cell_type": "code",
   "execution_count": 9,
   "metadata": {},
   "outputs": [
    {
     "name": "stdout",
     "output_type": "stream",
     "text": [
      "Number of duplicate Date and Currency combinations: 0\n",
      "Missing values in Date and Currency: Date        0\n",
      "Currency    0\n",
      "dtype: int64\n",
      "Unique Dates: 2243\n",
      "Total number of records: 11215\n"
     ]
    }
   ],
   "source": [
    "# Check for duplicates based on 'Date' and 'Currency'\n",
    "duplicates = exchange_rates_df.duplicated(subset=['Date', 'Currency'])\n",
    "print(f\"Number of duplicate Date and Currency combinations: {duplicates.sum()}\")\n",
    "\n",
    "# Check for missing values in key columns\n",
    "missing_keys = exchange_rates_df[['Date', 'Currency']].isnull().sum()\n",
    "print(f\"Missing values in Date and Currency: {missing_keys}\")\n",
    "\n",
    "# Display unique values for key columns to ensure consistency\n",
    "unique_dates = exchange_rates_df['Date'].nunique()\n",
    "total_records = len(exchange_rates_df)\n",
    "print(f\"Unique Dates: {unique_dates}\")\n",
    "print(f\"Total number of records: {total_records}\")\n"
   ]
  },
  {
   "cell_type": "code",
   "execution_count": 10,
   "metadata": {},
   "outputs": [
    {
     "name": "stdout",
     "output_type": "stream",
     "text": [
      "Number of duplicate Date and Currency combinations: 0\n",
      "Missing values in Date and Currency: Date        0\n",
      "Currency    0\n",
      "dtype: int64\n",
      "Unique Dates: 2243\n",
      "Total number of records: 11215\n"
     ]
    }
   ],
   "source": [
    "# Check for duplicates in the key columns\n",
    "duplicates = exchange_rates_df.duplicated(subset=['Date', 'Currency'])\n",
    "print(f\"Number of duplicate Date and Currency combinations: {duplicates.sum()}\")\n",
    "\n",
    "# Check for any missing values in key columns\n",
    "missing_keys = exchange_rates_df[['Date', 'Currency']].isnull().sum()\n",
    "print(f\"Missing values in Date and Currency: {missing_keys}\")\n",
    "\n",
    "# Display unique values for key columns to ensure consistency\n",
    "unique_dates = exchange_rates_df['Date'].nunique()\n",
    "total_records = len(exchange_rates_df)\n",
    "print(f\"Unique Dates: {unique_dates}\")\n",
    "print(f\"Total number of records: {total_records}\")\n"
   ]
  },
  {
   "cell_type": "code",
   "execution_count": 11,
   "metadata": {},
   "outputs": [],
   "source": [
    "exchange_rates_df.to_csv('cleaned_Exchange_Rates.csv', index=False)"
   ]
  }
 ],
 "metadata": {
  "kernelspec": {
   "display_name": "Python 3",
   "language": "python",
   "name": "python3"
  },
  "language_info": {
   "codemirror_mode": {
    "name": "ipython",
    "version": 3
   },
   "file_extension": ".py",
   "mimetype": "text/x-python",
   "name": "python",
   "nbconvert_exporter": "python",
   "pygments_lexer": "ipython3",
   "version": "3.12.4"
  }
 },
 "nbformat": 4,
 "nbformat_minor": 2
}
