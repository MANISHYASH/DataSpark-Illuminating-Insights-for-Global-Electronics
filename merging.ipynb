{
 "cells": [
  {
   "cell_type": "code",
   "execution_count": 1,
   "metadata": {},
   "outputs": [
    {
     "name": "stdout",
     "output_type": "stream",
     "text": [
      "   Order Number  Line Item Order Date Delivery Date  CustomerKey  StoreKey  \\\n",
      "0        366001          1   1/1/2016     1/13/2016      1269051         0   \n",
      "1        366001          2   1/1/2016     1/13/2016      1269051         0   \n",
      "2        366002          1   1/1/2016     1/12/2016       266019         0   \n",
      "3        366002          2   1/1/2016     1/12/2016       266019         0   \n",
      "4        366002          3   1/1/2016     1/12/2016       266019         0   \n",
      "\n",
      "   ProductKey  Quantity Currency Code  Gender            Name      City  \\\n",
      "0        1048         2           USD    Male  Frank Upchurch   Auberry   \n",
      "1        2007         1           USD    Male  Frank Upchurch   Auberry   \n",
      "2        1106         7           CAD  Female      Joan Roche  Red Deer   \n",
      "3         373         1           CAD  Female      Joan Roche  Red Deer   \n",
      "4        1080         4           CAD  Female      Joan Roche  Red Deer   \n",
      "\n",
      "  State Code       State Zip Code        Country      Continent    Birthday  \n",
      "0         CA  California    93602  United States  North America  1995-11-20  \n",
      "1         CA  California    93602  United States  North America  1995-11-20  \n",
      "2         AB     Alberta  T4N 2A6         Canada  North America  1962-08-24  \n",
      "3         AB     Alberta  T4N 2A6         Canada  North America  1962-08-24  \n",
      "4         AB     Alberta  T4N 2A6         Canada  North America  1962-08-24  \n"
     ]
    }
   ],
   "source": [
    "import pandas as pd\n",
    "\n",
    "# Load the cleaned datasets\n",
    "sales_df = pd.read_csv('cleaned_Sales.csv')\n",
    "customers_df = pd.read_csv('cleaned_Customers.csv')\n",
    "\n",
    "# Merge Sales and Customers datasets\n",
    "merged_sales_customers = pd.merge(sales_df, customers_df, on='CustomerKey', how='inner')\n",
    "\n",
    "# Save the merged dataset\n",
    "merged_sales_customers.to_csv('merged_Sales_Customers.csv', index=False)\n",
    "\n",
    "# Display the first few rows of the merged dataset\n",
    "print(merged_sales_customers.head())\n"
   ]
  },
  {
   "cell_type": "code",
   "execution_count": 2,
   "metadata": {},
   "outputs": [
    {
     "name": "stdout",
     "output_type": "stream",
     "text": [
      "Number of missing CustomerKey matches: 0\n"
     ]
    }
   ],
   "source": [
    "import pandas as pd\n",
    "\n",
    "# Load the merged dataset\n",
    "merged_sales_customers = pd.read_csv('Merged_Sales_Customers.csv')\n",
    "\n",
    "# Check if there are any CustomerKey values in the Sales dataset not present in the Customers dataset\n",
    "missing_customer_keys = merged_sales_customers[~merged_sales_customers['CustomerKey'].isin(customers_df['CustomerKey'])]\n",
    "\n",
    "print(f\"Number of missing CustomerKey matches: {len(missing_customer_keys)}\")\n",
    "if not missing_customer_keys.empty:\n",
    "    print(missing_customer_keys.head())\n"
   ]
  },
  {
   "cell_type": "code",
   "execution_count": 3,
   "metadata": {},
   "outputs": [
    {
     "name": "stdout",
     "output_type": "stream",
     "text": [
      "Empty DataFrame\n",
      "Columns: [CustomerKey, Name, City, Gender, _merge]\n",
      "Index: []\n"
     ]
    }
   ],
   "source": [
    "# Check if customer details in the merged dataset are consistent with the Customers dataset\n",
    "customer_details_check = merged_sales_customers[['CustomerKey', 'Name', 'City', 'Gender']].merge(customers_df[['CustomerKey', 'Name', 'City', 'Gender']], on=['CustomerKey', 'Name', 'City', 'Gender'], how='left', indicator=True)\n",
    "\n",
    "# Display rows where there is a mismatch\n",
    "print(customer_details_check[customer_details_check['_merge'] == 'left_only'])\n"
   ]
  },
  {
   "cell_type": "code",
   "execution_count": 4,
   "metadata": {},
   "outputs": [
    {
     "name": "stdout",
     "output_type": "stream",
     "text": [
      "   Order Number  Line Item Order Date Delivery Date  CustomerKey  StoreKey  \\\n",
      "0        366001          1   1/1/2016     1/13/2016      1269051         0   \n",
      "1        366001          2   1/1/2016     1/13/2016      1269051         0   \n",
      "2        366002          1   1/1/2016     1/12/2016       266019         0   \n",
      "3        366002          2   1/1/2016     1/12/2016       266019         0   \n",
      "4        366002          3   1/1/2016     1/12/2016       266019         0   \n",
      "\n",
      "   ProductKey  Quantity Currency Code  Gender  ... State Code     State_x  \\\n",
      "0        1048         2           USD    Male  ...         CA  California   \n",
      "1        2007         1           USD    Male  ...         CA  California   \n",
      "2        1106         7           CAD  Female  ...         AB     Alberta   \n",
      "3         373         1           CAD  Female  ...         AB     Alberta   \n",
      "4        1080         4           CAD  Female  ...         AB     Alberta   \n",
      "\n",
      "  Zip Code      Country_x      Continent    Birthday Country_y State_y  \\\n",
      "0    93602  United States  North America  1995-11-20    Online  Online   \n",
      "1    93602  United States  North America  1995-11-20    Online  Online   \n",
      "2  T4N 2A6         Canada  North America  1962-08-24    Online  Online   \n",
      "3  T4N 2A6         Canada  North America  1962-08-24    Online  Online   \n",
      "4  T4N 2A6         Canada  North America  1962-08-24    Online  Online   \n",
      "\n",
      "  Square Meters   Open Date  \n",
      "0        1347.5  2010-01-01  \n",
      "1        1347.5  2010-01-01  \n",
      "2        1347.5  2010-01-01  \n",
      "3        1347.5  2010-01-01  \n",
      "4        1347.5  2010-01-01  \n",
      "\n",
      "[5 rows x 22 columns]\n"
     ]
    }
   ],
   "source": [
    "import pandas as pd\n",
    "\n",
    "# Load the previously merged Sales and Customers dataset\n",
    "merged_sales_customers_df = pd.read_csv('Merged_Sales_Customers.csv', encoding='ISO-8859-1')\n",
    "\n",
    "# Load the Stores dataset\n",
    "stores_df = pd.read_csv('cleaned_Stores.csv', encoding='ISO-8859-1')\n",
    "\n",
    "# Merge the Sales_Customers and Stores datasets\n",
    "merged_sales_customers_stores = pd.merge(merged_sales_customers_df, stores_df, on='StoreKey', how='inner')\n",
    "\n",
    "# Display the first few rows of the merged dataset\n",
    "print(merged_sales_customers_stores.head())\n",
    "\n",
    "# Save the merged dataset to a CSV file for further use\n",
    "merged_sales_customers_stores.to_csv('Merged_Sales_Customers_Stores.csv', index=False)\n"
   ]
  },
  {
   "cell_type": "code",
   "execution_count": 5,
   "metadata": {},
   "outputs": [
    {
     "name": "stdout",
     "output_type": "stream",
     "text": [
      "Number of duplicate rows: 0\n",
      "Missing values in each column:\n",
      "Order Number     0\n",
      "Line Item        0\n",
      "Order Date       0\n",
      "Delivery Date    0\n",
      "CustomerKey      0\n",
      "StoreKey         0\n",
      "ProductKey       0\n",
      "Quantity         0\n",
      "Currency Code    0\n",
      "Gender           0\n",
      "Name             0\n",
      "City             0\n",
      "State Code       0\n",
      "State_x          0\n",
      "Zip Code         0\n",
      "Country_x        0\n",
      "Continent        0\n",
      "Birthday         0\n",
      "Country_y        0\n",
      "State_y          0\n",
      "Square Meters    0\n",
      "Open Date        0\n",
      "dtype: int64\n",
      "Missing columns: []\n",
      "   Order Number  Line Item Order Date Delivery Date  CustomerKey  StoreKey  \\\n",
      "0        366001          1   1/1/2016     1/13/2016      1269051         0   \n",
      "1        366001          2   1/1/2016     1/13/2016      1269051         0   \n",
      "2        366002          1   1/1/2016     1/12/2016       266019         0   \n",
      "3        366002          2   1/1/2016     1/12/2016       266019         0   \n",
      "4        366002          3   1/1/2016     1/12/2016       266019         0   \n",
      "\n",
      "   ProductKey  Quantity Currency Code  Gender  ... State Code     State_x  \\\n",
      "0        1048         2           USD    Male  ...         CA  California   \n",
      "1        2007         1           USD    Male  ...         CA  California   \n",
      "2        1106         7           CAD  Female  ...         AB     Alberta   \n",
      "3         373         1           CAD  Female  ...         AB     Alberta   \n",
      "4        1080         4           CAD  Female  ...         AB     Alberta   \n",
      "\n",
      "  Zip Code      Country_x      Continent    Birthday Country_y State_y  \\\n",
      "0    93602  United States  North America  1995-11-20    Online  Online   \n",
      "1    93602  United States  North America  1995-11-20    Online  Online   \n",
      "2  T4N 2A6         Canada  North America  1962-08-24    Online  Online   \n",
      "3  T4N 2A6         Canada  North America  1962-08-24    Online  Online   \n",
      "4  T4N 2A6         Canada  North America  1962-08-24    Online  Online   \n",
      "\n",
      "  Square Meters   Open Date  \n",
      "0        1347.5  2010-01-01  \n",
      "1        1347.5  2010-01-01  \n",
      "2        1347.5  2010-01-01  \n",
      "3        1347.5  2010-01-01  \n",
      "4        1347.5  2010-01-01  \n",
      "\n",
      "[5 rows x 22 columns]\n"
     ]
    }
   ],
   "source": [
    "# Check for duplicate rows in the merged dataset\n",
    "duplicates = merged_sales_customers_stores.duplicated()\n",
    "print(f\"Number of duplicate rows: {duplicates.sum()}\")\n",
    "\n",
    "# Check for any missing values in the merged dataset\n",
    "missing_values = merged_sales_customers_stores.isnull().sum()\n",
    "print(\"Missing values in each column:\")\n",
    "print(missing_values)\n",
    "\n",
    "# Ensure there are no unexpected columns\n",
    "expected_columns = ['Order Number', 'Line Item', 'Order Date', 'Delivery Date', 'CustomerKey', 'StoreKey', \n",
    "                     'ProductKey', 'Quantity', 'Currency Code', 'Gender', 'Name', 'City', 'State Code',\n",
    "                     'State_x', 'Zip Code', 'Country_x', 'Continent', 'Birthday', 'Country_y', 'State_y',\n",
    "                     'Square Meters', 'Open Date']\n",
    "\n",
    "actual_columns = merged_sales_customers_stores.columns.tolist()\n",
    "missing_columns = [col for col in expected_columns if col not in actual_columns]\n",
    "print(f\"Missing columns: {missing_columns}\")\n",
    "\n",
    "# Display the first few rows of the dataset to inspect\n",
    "print(merged_sales_customers_stores.head())\n"
   ]
  },
  {
   "cell_type": "code",
   "execution_count": 6,
   "metadata": {},
   "outputs": [
    {
     "name": "stdout",
     "output_type": "stream",
     "text": [
      "   Order Number  Line Item Order Date Delivery Date  CustomerKey  StoreKey  \\\n",
      "0        366001          1   1/1/2016     1/13/2016      1269051         0   \n",
      "1        366001          2   1/1/2016     1/13/2016      1269051         0   \n",
      "2        366002          1   1/1/2016     1/12/2016       266019         0   \n",
      "3        366002          2   1/1/2016     1/12/2016       266019         0   \n",
      "4        366002          3   1/1/2016     1/12/2016       266019         0   \n",
      "\n",
      "   ProductKey  Quantity Currency Code  Gender  ...   Open Date  \\\n",
      "0        1048         2           USD    Male  ...  2010-01-01   \n",
      "1        2007         1           USD    Male  ...  2010-01-01   \n",
      "2        1106         7           CAD  Female  ...  2010-01-01   \n",
      "3         373         1           CAD  Female  ...  2010-01-01   \n",
      "4        1080         4           CAD  Female  ...  2010-01-01   \n",
      "\n",
      "                             Product Name            Brand   Color  \\\n",
      "0         A. Datum SLR Camera X136 Silver         A. Datum  Silver   \n",
      "1  Fabrikam Microwave 1.5CuFt X1100 Black         Fabrikam   Black   \n",
      "2          Contoso SLR Camera M146 Orange          Contoso  Orange   \n",
      "3   Adventure Works Laptop8.9 E0890 White  Adventure Works   White   \n",
      "4          Contoso SLR Camera X143 Silver          Contoso  Silver   \n",
      "\n",
      "  Unit Cost USD Unit Price USD SubcategoryKey          Subcategory  \\\n",
      "0        141.47         427.00            402  Digital SLR Cameras   \n",
      "1        220.64         665.94            803           Microwaves   \n",
      "2        148.08         322.00            402  Digital SLR Cameras   \n",
      "3        166.20         326.00            301              Laptops   \n",
      "4        214.03         646.00            402  Digital SLR Cameras   \n",
      "\n",
      "  CategoryKey                Category  \n",
      "0           4  Cameras and camcorders  \n",
      "1           8         Home Appliances  \n",
      "2           4  Cameras and camcorders  \n",
      "3           3               Computers  \n",
      "4           4  Cameras and camcorders  \n",
      "\n",
      "[5 rows x 31 columns]\n"
     ]
    }
   ],
   "source": [
    "import pandas as pd\n",
    "\n",
    "# Load the datasets\n",
    "merged_sales_customers_stores = pd.read_csv('Merged_Sales_Customers_Stores.csv', encoding='ISO-8859-1')\n",
    "products_df = pd.read_csv('cleaned_Products.csv', encoding='ISO-8859-1')\n",
    "\n",
    "# Merge Sales_Customers_Stores with Products datasets\n",
    "merged_all = pd.merge(merged_sales_customers_stores, products_df, on='ProductKey', how='inner')\n",
    "\n",
    "# Display the first few rows of the merged dataset\n",
    "print(merged_all.head())\n",
    "\n",
    "# Save the merged dataset to a CSV file for further use\n",
    "merged_all.to_csv('Merged_All.csv', index=False)\n"
   ]
  },
  {
   "cell_type": "code",
   "execution_count": 7,
   "metadata": {},
   "outputs": [
    {
     "name": "stdout",
     "output_type": "stream",
     "text": [
      "Missing values in each column:\n",
      "Order Number      0\n",
      "Line Item         0\n",
      "Order Date        0\n",
      "Delivery Date     0\n",
      "CustomerKey       0\n",
      "StoreKey          0\n",
      "ProductKey        0\n",
      "Quantity          0\n",
      "Currency Code     0\n",
      "Gender            0\n",
      "Name              0\n",
      "City              0\n",
      "State Code        0\n",
      "State_x           0\n",
      "Zip Code          0\n",
      "Country_x         0\n",
      "Continent         0\n",
      "Birthday          0\n",
      "Country_y         0\n",
      "State_y           0\n",
      "Square Meters     0\n",
      "Open Date         0\n",
      "Product Name      0\n",
      "Brand             0\n",
      "Color             0\n",
      "Unit Cost USD     0\n",
      "Unit Price USD    0\n",
      "SubcategoryKey    0\n",
      "Subcategory       0\n",
      "CategoryKey       0\n",
      "Category          0\n",
      "dtype: int64\n",
      "Number of duplicate rows: 0\n",
      "Missing columns:\n",
      "[]\n"
     ]
    }
   ],
   "source": [
    "import pandas as pd\n",
    "\n",
    "# Load the merged dataset\n",
    "merged_all_df = pd.read_csv('Merged_All.csv', encoding='ISO-8859-1')\n",
    "\n",
    "# Check for any missing values in the dataset\n",
    "missing_values = merged_all_df.isnull().sum()\n",
    "print(\"Missing values in each column:\")\n",
    "print(missing_values)\n",
    "\n",
    "# Check for duplicate rows\n",
    "duplicate_rows = merged_all_df.duplicated().sum()\n",
    "print(f\"Number of duplicate rows: {duplicate_rows}\")\n",
    "\n",
    "# Check if all expected columns are present\n",
    "expected_columns = ['Order Number', 'Line Item', 'Order Date', 'Delivery Date', 'CustomerKey', 'StoreKey', 'ProductKey', 'Quantity', 'Currency Code', 'Gender', 'Name', 'City', 'State Code', 'State_x', 'Zip Code', 'Country_x', 'Continent', 'Birthday', 'Country_y', 'State_y', 'Square Meters', 'Open Date', 'Product Name', 'Brand', 'Color', 'Unit Cost USD', 'Unit Price USD', 'SubcategoryKey', 'Subcategory', 'CategoryKey', 'Category']\n",
    "missing_columns = [col for col in expected_columns if col not in merged_all_df.columns]\n",
    "print(\"Missing columns:\")\n",
    "print(missing_columns)\n"
   ]
  }
 ],
 "metadata": {
  "kernelspec": {
   "display_name": "Python 3",
   "language": "python",
   "name": "python3"
  },
  "language_info": {
   "codemirror_mode": {
    "name": "ipython",
    "version": 3
   },
   "file_extension": ".py",
   "mimetype": "text/x-python",
   "name": "python",
   "nbconvert_exporter": "python",
   "pygments_lexer": "ipython3",
   "version": "3.12.4"
  }
 },
 "nbformat": 4,
 "nbformat_minor": 2
}
